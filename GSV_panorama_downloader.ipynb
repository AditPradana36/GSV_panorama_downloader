{
  "nbformat": 4,
  "nbformat_minor": 0,
  "metadata": {
    "colab": {
      "provenance": [],
      "authorship_tag": "ABX9TyNzDhBga4M2ZexGrgz7qqx3",
      "include_colab_link": true
    },
    "kernelspec": {
      "name": "python3",
      "display_name": "Python 3"
    },
    "language_info": {
      "name": "python"
    }
  },
  "cells": [
    {
      "cell_type": "markdown",
      "metadata": {
        "id": "view-in-github",
        "colab_type": "text"
      },
      "source": [
        "<a href=\"https://colab.research.google.com/github/AditPradana36/GSV_panorama_downloader/blob/main/GSV_panorama_downloader.ipynb\" target=\"_parent\"><img src=\"https://colab.research.google.com/assets/colab-badge.svg\" alt=\"Open In Colab\"/></a>"
      ]
    },
    {
      "cell_type": "markdown",
      "source": [
        "# 🌐 **Google Street View Image Downloader**\n",
        "\n",
        "This Google Colab notebook allows you to download Street View images from Google Maps using latitude and longitude coordinates provided in a CSV file. It supports both standard and panoramic downloads, saves images to a specified folder, and generates a metadata CSV."
      ],
      "metadata": {
        "id": "H9sxccEhprNF"
      }
    },
    {
      "cell_type": "markdown",
      "source": [
        "# ✨ Features\n",
        "\n",
        "✉️ Interactive parameters using @param form inputs\n",
        "\n",
        "📷 Standard or 360° panoramic Street View image download\n",
        "\n",
        "✔️ Automatic naming of images based on id column\n",
        "\n",
        "📅 Metadata logging (date, pano ID, download time, etc.)\n",
        "\n",
        "📂 Customizable image size, pitch, field of view (FOV), and radius\n",
        "\n"
      ],
      "metadata": {
        "id": "swTngMy9qmGG"
      }
    },
    {
      "cell_type": "markdown",
      "source": [
        "# 📄 CSV Format Required\n",
        "\n",
        "Your CSV must include the following columns:\n",
        "\n",
        "\n",
        "```\n",
        "id,lat,lon\n",
        "1,-6.200000,106.816666\n",
        "2,-6.174465,106.822745\n",
        "```\n",
        "\n",
        "⚠️ id values must be numeric or convertible to integers (e.g., 1.0 becomes 1)."
      ],
      "metadata": {
        "id": "aXtzcb2WqrEX"
      }
    },
    {
      "cell_type": "markdown",
      "source": [
        "# **▶️ How to Use the Notebook**"
      ],
      "metadata": {
        "id": "iRPZL8e5q4Uo"
      }
    },
    {
      "cell_type": "markdown",
      "source": [
        "# **📚 1. Install Dependencies**\n",
        "\n",
        "This block installs the required libraries requests and pillow, and imports essential modules for HTTP requests, image handling, file writing, and CSV/dataframe processing."
      ],
      "metadata": {
        "id": "4IaY9eJdq95a"
      }
    },
    {
      "cell_type": "code",
      "source": [
        "# ============================================\n",
        "# 🛠 Install dependencies\n",
        "# ============================================\n",
        "!pip install requests pillow\n",
        "\n",
        "import os\n",
        "import csv\n",
        "import datetime\n",
        "import requests\n",
        "from io import BytesIO\n",
        "from PIL import Image\n",
        "from google.colab import files\n",
        "import pandas as pd"
      ],
      "metadata": {
        "colab": {
          "base_uri": "https://localhost:8080/"
        },
        "id": "j8YAdKhXkUXV",
        "outputId": "fc8ded9a-07a5-4202-eef3-88c0f3ff7d80"
      },
      "execution_count": null,
      "outputs": [
        {
          "output_type": "stream",
          "name": "stdout",
          "text": [
            "Requirement already satisfied: requests in /usr/local/lib/python3.11/dist-packages (2.32.3)\n",
            "Requirement already satisfied: pillow in /usr/local/lib/python3.11/dist-packages (11.3.0)\n",
            "Requirement already satisfied: charset-normalizer<4,>=2 in /usr/local/lib/python3.11/dist-packages (from requests) (3.4.2)\n",
            "Requirement already satisfied: idna<4,>=2.5 in /usr/local/lib/python3.11/dist-packages (from requests) (3.10)\n",
            "Requirement already satisfied: urllib3<3,>=1.21.1 in /usr/local/lib/python3.11/dist-packages (from requests) (2.5.0)\n",
            "Requirement already satisfied: certifi>=2017.4.17 in /usr/local/lib/python3.11/dist-packages (from requests) (2025.8.3)\n"
          ]
        }
      ]
    },
    {
      "cell_type": "markdown",
      "source": [
        "# **📂 2. Set Parameters**\n",
        "\n",
        "Use this form to set your Google Maps API key, the CSV file path, image settings (like size, pitch, FOV), and output file names.\n",
        "These parameters are editable in Google Colab through a form interface."
      ],
      "metadata": {
        "id": "38KMo0MPrDE7"
      }
    },
    {
      "cell_type": "code",
      "source": [
        "# ============================================\n",
        "# 📌 Parameters - Edit these using Colab form\n",
        "# ============================================\n",
        "\n",
        "api_key = \"YOUR_GOOGLE_API\"          # @param {type:\"string\"}\n",
        "csv_path = \"copy your csv path\"      # @param {type:\"string\"}\n",
        "output_folder = \"copy your image output path\"  # @param {type:\"string\"}\n",
        "panorama = True                               # @param {type:\"boolean\"}\n",
        "image_size = \"640x640\"                        # @param {type:\"string\"}\n",
        "fov = 90                                      # @param {type:\"integer\"}\n",
        "pitch = 0                                     # @param {type:\"integer\"}\n",
        "radius = 30                                   # @param {type:\"integer\"}\n",
        "source = \"default\"                            # @param {type:\"string\"}\n",
        "metadata_output = \"copy your metadata output path\"     # @param {type:\"string\"}\n"
      ],
      "metadata": {
        "cellView": "form",
        "id": "eZ6T93tlkWf1"
      },
      "execution_count": null,
      "outputs": []
    },
    {
      "cell_type": "markdown",
      "source": [
        "# **🔄 3. Process the CSV and Start Download**"
      ],
      "metadata": {
        "id": "qynKaUDUrIIM"
      }
    },
    {
      "cell_type": "code",
      "source": [
        "# ============================================\n",
        "# 📦 Street View Downloader Class\n",
        "# ============================================\n",
        "\n",
        "class StreetViewDownloader:\n",
        "    BASE_IMAGE_URL = \"https://maps.googleapis.com/maps/api/streetview\"\n",
        "    BASE_METADATA_URL = \"https://maps.googleapis.com/maps/api/streetview/metadata\"\n",
        "\n",
        "    def __init__(self, api_key):\n",
        "        self.api_key = api_key\n",
        "\n",
        "    def _get_image_response(self, lat, lng, params):\n",
        "        url = f\"{self.BASE_IMAGE_URL}?location={lat},{lng}&key={self.api_key}\"\n",
        "        for key, value in params.items():\n",
        "            url += f\"&{key}={value}\"\n",
        "        return requests.get(url)\n",
        "\n",
        "    def get_image_metadata(self, lat, lng, radius=50, source='default'):\n",
        "        params = {\n",
        "            'location': f\"{lat},{lng}\",\n",
        "            'radius': radius,\n",
        "            'source': source,\n",
        "            'key': self.api_key\n",
        "        }\n",
        "        response = requests.get(self.BASE_METADATA_URL, params=params)\n",
        "        return response.json() if response.status_code == 200 else {\"status\": \"ERROR\", \"error\": response.text}\n",
        "\n",
        "    def download_image(self, lat, lng, output_folder=\".\", image_id=\"image\", panorama=False, params=None):\n",
        "        if not os.path.exists(output_folder):\n",
        "            os.makedirs(output_folder)\n",
        "\n",
        "        if panorama:\n",
        "            imgs = []\n",
        "            for heading in [0, 90, 180, 270]:\n",
        "                params['heading'] = heading\n",
        "                response = self._get_image_response(lat, lng, params)\n",
        "                if response.status_code != 200:\n",
        "                    print(f\"Failed at heading {heading} | {response.text}\")\n",
        "                    return False\n",
        "                imgs.append(Image.open(BytesIO(response.content)))\n",
        "\n",
        "            total_width = sum(img.width for img in imgs)\n",
        "            max_height = max(img.height for img in imgs)\n",
        "            panorama_img = Image.new(\"RGB\", (total_width, max_height))\n",
        "            x_offset = 0\n",
        "            for img in imgs:\n",
        "                panorama_img.paste(img, (x_offset, 0))\n",
        "                x_offset += img.width\n",
        "\n",
        "            filename = f\"id_{image_id}_panorama.jpg\"\n",
        "            panorama_img.save(os.path.join(output_folder, filename))\n",
        "        else:\n",
        "            params['heading'] = 0\n",
        "            response = self._get_image_response(lat, lng, params)\n",
        "            if response.status_code != 200:\n",
        "                print(f\"Failed to download {lat},{lng} | {response.text}\")\n",
        "                return False\n",
        "            filename = f\"id_{image_id}.jpg\"\n",
        "            with open(os.path.join(output_folder, filename), 'wb') as f:\n",
        "                f.write(response.content)\n",
        "\n",
        "        return filename"
      ],
      "metadata": {
        "id": "z9D_3EMak6ZE"
      },
      "execution_count": null,
      "outputs": []
    },
    {
      "cell_type": "markdown",
      "source": [
        "# **💾 4. Output Summary**"
      ],
      "metadata": {
        "id": "x_vd6p-srT3H"
      }
    },
    {
      "cell_type": "code",
      "source": [
        "# ============================================\n",
        "# 🔁 Process All Rows in CSV\n",
        "# ============================================\n",
        "\n",
        "downloader = StreetViewDownloader(api_key)\n",
        "\n",
        "os.makedirs(output_folder, exist_ok=True)\n",
        "\n",
        "with open(metadata_output, 'w', newline='') as meta_file:\n",
        "    fieldnames = ['image_id', 'filename', 'lat', 'lon', 'panorama', 'capture_date', 'pano_id', 'status', 'download_timestamp']\n",
        "    writer = csv.DictWriter(meta_file, fieldnames=fieldnames)\n",
        "    writer.writeheader()\n",
        "\n",
        "    df = pd.read_csv(csv_path)\n",
        "    for idx, row in df.iterrows():\n",
        "        lat, lng = row['lat'], row['lon']\n",
        "        image_id = str(int(float(row['id'])))\n",
        "\n",
        "\n",
        "        metadata = downloader.get_image_metadata(lat, lng, radius=radius, source=source)\n",
        "        if metadata.get('status') != \"OK\":\n",
        "            print(f\"Skipping ID {image_id} ({lat},{lng}) due to metadata status: {metadata.get('status')}\")\n",
        "            continue\n",
        "\n",
        "        params = {\n",
        "            'size': image_size,\n",
        "            'fov': fov,\n",
        "            'pitch': pitch,\n",
        "            'radius': radius,\n",
        "            'source': source\n",
        "        }\n",
        "\n",
        "        filename = downloader.download_image(lat, lng, output_folder=output_folder, image_id=image_id, panorama=panorama, params=params)\n",
        "        if not filename:\n",
        "            continue\n",
        "\n",
        "        writer.writerow({\n",
        "            'image_id': image_id,\n",
        "            'filename': filename,\n",
        "            'lat': lat,\n",
        "            'lon': lng,\n",
        "            'panorama': panorama,\n",
        "            'capture_date': metadata.get('date', ''),\n",
        "            'pano_id': metadata.get('pano_id', ''),\n",
        "            'status': metadata.get('status'),\n",
        "            'download_timestamp': datetime.datetime.now().isoformat()\n",
        "        })\n",
        "\n",
        "print(f\"✅ All images downloaded to `{output_folder}`\")\n",
        "print(f\"📄 Metadata saved to `{metadata_output}`\")\n",
        "files.download(metadata_output)"
      ],
      "metadata": {
        "colab": {
          "base_uri": "https://localhost:8080/",
          "height": 53
        },
        "id": "Pm3kJE11k9QI",
        "outputId": "9071eff5-d1ea-453b-afe5-62800905b2ec"
      },
      "execution_count": null,
      "outputs": [
        {
          "output_type": "stream",
          "name": "stdout",
          "text": [
            "✅ All images downloaded to `/content/downloaded_images`\n",
            "📄 Metadata saved to `/content/metadata.csv`\n"
          ]
        },
        {
          "output_type": "display_data",
          "data": {
            "text/plain": [
              "<IPython.core.display.Javascript object>"
            ],
            "application/javascript": [
              "\n",
              "    async function download(id, filename, size) {\n",
              "      if (!google.colab.kernel.accessAllowed) {\n",
              "        return;\n",
              "      }\n",
              "      const div = document.createElement('div');\n",
              "      const label = document.createElement('label');\n",
              "      label.textContent = `Downloading \"${filename}\": `;\n",
              "      div.appendChild(label);\n",
              "      const progress = document.createElement('progress');\n",
              "      progress.max = size;\n",
              "      div.appendChild(progress);\n",
              "      document.body.appendChild(div);\n",
              "\n",
              "      const buffers = [];\n",
              "      let downloaded = 0;\n",
              "\n",
              "      const channel = await google.colab.kernel.comms.open(id);\n",
              "      // Send a message to notify the kernel that we're ready.\n",
              "      channel.send({})\n",
              "\n",
              "      for await (const message of channel.messages) {\n",
              "        // Send a message to notify the kernel that we're ready.\n",
              "        channel.send({})\n",
              "        if (message.buffers) {\n",
              "          for (const buffer of message.buffers) {\n",
              "            buffers.push(buffer);\n",
              "            downloaded += buffer.byteLength;\n",
              "            progress.value = downloaded;\n",
              "          }\n",
              "        }\n",
              "      }\n",
              "      const blob = new Blob(buffers, {type: 'application/binary'});\n",
              "      const a = document.createElement('a');\n",
              "      a.href = window.URL.createObjectURL(blob);\n",
              "      a.download = filename;\n",
              "      div.appendChild(a);\n",
              "      a.click();\n",
              "      div.remove();\n",
              "    }\n",
              "  "
            ]
          },
          "metadata": {}
        },
        {
          "output_type": "display_data",
          "data": {
            "text/plain": [
              "<IPython.core.display.Javascript object>"
            ],
            "application/javascript": [
              "download(\"download_9bb232e8-6d03-4d83-9913-e8f71fa9c18d\", \"metadata.csv\", 647)"
            ]
          },
          "metadata": {}
        }
      ]
    }
  ]
}